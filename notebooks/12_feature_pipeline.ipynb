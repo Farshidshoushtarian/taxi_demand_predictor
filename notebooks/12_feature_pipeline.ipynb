{
 "cells": [
  {
   "cell_type": "code",
   "execution_count": 2,
   "metadata": {},
   "outputs": [
    {
     "name": "stdout",
     "output_type": "stream",
     "text": [
      "Project root: /Users/farshid/taxi_demand_predictor\n",
      "Checking if src exists at: /Users/farshid/taxi_demand_predictor/src -> True\n",
      "Added /Users/farshid/taxi_demand_predictor/src to sys.path\n",
      "Current sys.path: ['/Library/Frameworks/Python.framework/Versions/3.12/lib/python312.zip', '/Library/Frameworks/Python.framework/Versions/3.12/lib/python3.12', '/Library/Frameworks/Python.framework/Versions/3.12/lib/python3.12/lib-dynload', '', '/Users/farshid/taxi_demand_predictor/.venv/lib/python3.12/site-packages', '/Users/farshid/taxi_demand_predictor/src']\n",
      "Error importing module: No module named 'src'\n"
     ]
    }
   ],
   "source": [
    "import sys\n",
    "from pathlib import Path\n",
    "import os\n",
    "\n",
    "# Locate the project root (adjust as needed)\n",
    "project_root = Path.cwd().parent  # If running from notebooks/\n",
    "src_path = project_root / \"src\"\n",
    "\n",
    "# Debugging outputs\n",
    "print(f\"Project root: {project_root}\")\n",
    "print(f\"Checking if src exists at: {src_path} -> {src_path.exists()}\")\n",
    "\n",
    "# Add src to Python path\n",
    "if src_path.exists() and str(src_path) not in sys.path:\n",
    "    sys.path.append(str(src_path))\n",
    "    print(f\"Added {src_path} to sys.path\")\n",
    "\n",
    "# Verify the path inclusion\n",
    "print(\"Current sys.path:\", sys.path)\n",
    "\n",
    "# Try importing the module\n",
    "try:\n",
    "    import src.config as config\n",
    "    print(\"Module imported successfully!\")\n",
    "except ModuleNotFoundError as e:\n",
    "    print(f\"Error importing module: {e}\")\n"
   ]
  },
  {
   "cell_type": "code",
   "execution_count": 3,
   "metadata": {},
   "outputs": [
    {
     "name": "stdout",
     "output_type": "stream",
     "text": [
      "Files in src: ['plot.py', 'config.py', 'requirements.txt', 'paths.py', '__init__.py', '__pycache__', 'model.py', 'data_split.py', '.env', 'data.py']\n"
     ]
    }
   ],
   "source": [
    "import os\n",
    "\n",
    "#src_path = \"/Users/farshid/taxi_demand_predictor/src\"\n",
    "#print(\"Files in src:\", os.listdir(src_path))\n",
    "\n",
    "\n",
    "src_path = os.path.join(os.getcwd(), \"src\")\n",
    "print(\"Files in src:\", os.listdir(src_path) if os.path.exists(src_path) else \"Directory not found\")\n",
    "\n"
   ]
  },
  {
   "cell_type": "code",
   "execution_count": null,
   "metadata": {},
   "outputs": [],
   "source": []
  },
  {
   "cell_type": "code",
   "execution_count": 10,
   "metadata": {},
   "outputs": [
    {
     "name": "stdout",
     "output_type": "stream",
     "text": [
      "Loading .env from: /Users/farshid/taxi_demand_predictor/src/.env\n",
      "Environment variables loaded successfully!\n",
      "HOPSWORKS_API_KEY: RTnmIWMeThUXBxPy.AppJdHvFMv6roAecw4UqE3B2NQaF8QsXoD4sZUTewaeRKJaULhrZCNYahNpFDNKe\n"
     ]
    }
   ],
   "source": [
    "from dotenv import load_dotenv\n",
    "import os\n",
    "from pathlib import Path\n",
    "\n",
    "env_path = Path.cwd().parent / \"src\" / \".env\"\n",
    "print(f\"Loading .env from: {env_path}\")\n",
    "\n",
    "if load_dotenv(env_path):\n",
    "    print(\"Environment variables loaded successfully!\")\n",
    "else:\n",
    "    print(\"Failed to load .env\")\n",
    "\n",
    "print(\"HOPSWORKS_API_KEY:\", os.getenv(\"HOPSWORKS_API_KEY\"))\n"
   ]
  },
  {
   "cell_type": "code",
   "execution_count": 12,
   "metadata": {},
   "outputs": [],
   "source": [
    "import config "
   ]
  },
  {
   "cell_type": "code",
   "execution_count": 14,
   "metadata": {},
   "outputs": [
    {
     "name": "stdout",
     "output_type": "stream",
     "text": [
      "current_date=Timestamp('2025-02-05 22:00:00+0000', tz='UTC')\n"
     ]
    }
   ],
   "source": [
    "from datetime import datetime, timedelta, UTC\n",
    "import pandas as pd\n",
    "\n",
    "# Use timezone-aware UTC timestamp\n",
    "current_date = pd.to_datetime(datetime.now(UTC)).floor('H')\n",
    "print(f'{current_date=}')\n",
    "\n",
    "# Fetch raw data for the last 28 days\n",
    "fetch_data_to = current_date\n",
    "fetch_data_from = current_date - timedelta(days=28)\n"
   ]
  },
  {
   "cell_type": "code",
   "execution_count": 18,
   "metadata": {},
   "outputs": [
    {
     "name": "stdout",
     "output_type": "stream",
     "text": [
      "from_date=Timestamp('2025-01-08 22:00:00+0000', tz='UTC'), to_date_=Timestamp('2024-02-07 22:00:00+0000', tz='UTC')\n",
      "File 2024-01 was already in local storage\n",
      "File 2024-02 was already in local storage\n"
     ]
    }
   ],
   "source": [
    "from datetime import datetime, timedelta\n",
    "import pandas as pd\n",
    "from data import load_raw_data\n",
    "\n",
    "def fetch_batch_raw_data(from_date: datetime, to_date: datetime) -> pd.DataFrame:\n",
    "    \"\"\"\n",
    "    Simulate production data by sampling historical data from 52 weeks ago (i.e. 1 year)\n",
    "    \"\"\"\n",
    "    from_date_ = from_date - timedelta(days=7*52)\n",
    "    to_date_ = to_date - timedelta(days=7*52)\n",
    "\n",
    "    # Ensure from_date_ and to_date_ are timezone-aware\n",
    "    from_date_ = from_date_.tz_convert(\"UTC\")\n",
    "    to_date_ = to_date_.tz_convert(\"UTC\")\n",
    "\n",
    "    print(f'{from_date=}, {to_date_=}')\n",
    "\n",
    "    # Download 2 files from website\n",
    "    rides = load_raw_data(year=from_date_.year, months=from_date_.month)\n",
    "    rides[\"pickup_datetime\"] = pd.to_datetime(rides[\"pickup_datetime\"], utc=True)  # Ensure timezone awareness\n",
    "    rides = rides[rides.pickup_datetime >= from_date_]\n",
    "\n",
    "    rides_2 = load_raw_data(year=to_date_.year, months=to_date_.month)\n",
    "    rides_2[\"pickup_datetime\"] = pd.to_datetime(rides_2[\"pickup_datetime\"], utc=True)  # Ensure timezone awareness\n",
    "    rides_2 = rides_2[rides_2.pickup_datetime < to_date_]\n",
    "\n",
    "    rides = pd.concat([rides, rides_2])\n",
    "\n",
    "    # Shift the data to pretend this is recent data\n",
    "    rides['pickup_datetime'] += timedelta(days=7*52)\n",
    "\n",
    "    rides.sort_values(by=['pickup_location_id', 'pickup_datetime'], inplace=True)\n",
    "\n",
    "    return rides\n",
    "\n",
    "rides = fetch_batch_raw_data(from_date=fetch_data_from, to_date=fetch_data_to)\n"
   ]
  },
  {
   "cell_type": "code",
   "execution_count": 19,
   "metadata": {},
   "outputs": [
    {
     "name": "stderr",
     "output_type": "stream",
     "text": [
      "100%|██████████| 265/265 [00:00<00:00, 564.51it/s]\n"
     ]
    }
   ],
   "source": [
    "from data import transform_raw_data_into_ts_data\n",
    "ts_data = transform_raw_data_into_ts_data(rides)"
   ]
  },
  {
   "cell_type": "code",
   "execution_count": 20,
   "metadata": {},
   "outputs": [],
   "source": [
    "# string to datetime\n",
    "ts_data['pickup_hour'] = pd.to_datetime(ts_data['pickup_hour'], utc=True)\n",
    "\n",
    "# add column with Unix epoch milliseconds\n",
    "ts_data['pickup_ts'] = ts_data['pickup_hour'].astype(int) // 10**6"
   ]
  },
  {
   "cell_type": "code",
   "execution_count": 22,
   "metadata": {},
   "outputs": [
    {
     "name": "stdout",
     "output_type": "stream",
     "text": [
      "2025-02-05 17:45:52,310 INFO: Initializing external client\n",
      "2025-02-05 17:45:52,311 INFO: Base URL: https://c.app.hopsworks.ai:443\n",
      "2025-02-05 17:45:53,005 INFO: Python Engine initialized.\n",
      "\n",
      "Logged in to project, explore it here https://c.app.hopsworks.ai:443/p/1211556\n"
     ]
    }
   ],
   "source": [
    "import hopsworks\n",
    "\n",
    "# connect to the project\n",
    "project = hopsworks.login(\n",
    "    project=config.HOPSWORKS_PROJECT_NAME,\n",
    "    api_key_value=config.HOPSWORKS_API_KEY\n",
    ")\n",
    "\n",
    "# connect to the feature store\n",
    "feature_store = project.get_feature_store()\n",
    "\n",
    "# connect to the feature group\n",
    "feature_group = feature_store.get_or_create_feature_group(\n",
    "    name=config.FEATURE_GROUP_NAME,\n",
    "    version=config.FEATURE_GROUP_VERSION,\n",
    "    description=\"Time-series data at hourly frequency\",\n",
    "    primary_key = ['pickup_location_id', 'pickup_ts'],\n",
    "    event_time='pickup_ts',\n",
    ")"
   ]
  },
  {
   "cell_type": "code",
   "execution_count": 23,
   "metadata": {},
   "outputs": [
    {
     "name": "stderr",
     "output_type": "stream",
     "text": [
      "Uploading Dataframe: 100.00% |██████████| Rows 178080/178080 | Elapsed Time: 00:08 | Remaining Time: 00:00\n"
     ]
    },
    {
     "name": "stdout",
     "output_type": "stream",
     "text": [
      "Launching job: time_series_hourly_feature_group_3_offline_fg_materialization\n",
      "Job started successfully, you can follow the progress at \n",
      "https://c.app.hopsworks.ai:443/p/1211556/jobs/named/time_series_hourly_feature_group_3_offline_fg_materialization/executions\n",
      "2025-02-05 17:47:54,739 INFO: Waiting for execution to finish. Current state: INITIALIZING. Final status: UNDEFINED\n",
      "2025-02-05 17:47:57,829 INFO: Waiting for execution to finish. Current state: RUNNING. Final status: UNDEFINED\n",
      "2025-02-05 17:50:47,425 INFO: Waiting for execution to finish. Current state: AGGREGATING_LOGS. Final status: SUCCEEDED\n",
      "2025-02-05 17:50:47,489 INFO: Waiting for log aggregation to finish.\n",
      "2025-02-05 17:50:58,924 INFO: Execution finished successfully.\n"
     ]
    },
    {
     "data": {
      "text/plain": [
       "(Job('time_series_hourly_feature_group_3_offline_fg_materialization', 'SPARK'),\n",
       " None)"
      ]
     },
     "execution_count": 23,
     "metadata": {},
     "output_type": "execute_result"
    }
   ],
   "source": [
    "# insert the data into the feature group\n",
    "feature_group.insert(ts_data, write_options={\"wait_for_job\": True})\n"
   ]
  }
 ],
 "metadata": {
  "kernelspec": {
   "display_name": "Python (taxi_venv)",
   "language": "python",
   "name": "taxi_venv"
  },
  "language_info": {
   "codemirror_mode": {
    "name": "ipython",
    "version": 3
   },
   "file_extension": ".py",
   "mimetype": "text/x-python",
   "name": "python",
   "nbconvert_exporter": "python",
   "pygments_lexer": "ipython3",
   "version": "3.12.8"
  }
 },
 "nbformat": 4,
 "nbformat_minor": 2
}
