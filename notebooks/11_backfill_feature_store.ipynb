{
 "cells": [
  {
   "cell_type": "code",
   "execution_count": 14,
   "metadata": {},
   "outputs": [
    {
     "name": "stdout",
     "output_type": "stream",
     "text": [
      "Checking if .env exists at: /Users/farshid/taxi_demand_predictor/src/.env\n",
      "Exists: True\n",
      "HOPSWORKS_API_KEY is set.\n"
     ]
    }
   ],
   "source": [
    "import os\n",
    "from dotenv import load_dotenv\n",
    "from pathlib import Path\n",
    "\n",
    "# Explicitly set the correct path to the .env file\n",
    "env_path = Path('/Users/farshid/taxi_demand_predictor/src/.env')\n",
    "\n",
    "# Debugging step to verify the path\n",
    "print(f\"Checking if .env exists at: {env_path}\")\n",
    "print(f\"Exists: {env_path.exists()}\")\n",
    "\n",
    "# Load the .env file\n",
    "load_dotenv(env_path)\n",
    "\n",
    "# Check if the variable is in the environment\n",
    "if 'HOPSWORKS_API_KEY' in os.environ:\n",
    "    print(\"HOPSWORKS_API_KEY is set.\")\n",
    "else:\n",
    "    print(\"HOPSWORKS_API_KEY is not found in environment.\")\n",
    "\n",
    "HOPSWORKS_API_KEY = os.environ['HOPSWORKS_API_KEY']\n",
    "\n",
    "\n"
   ]
  },
  {
   "cell_type": "code",
   "execution_count": 15,
   "metadata": {},
   "outputs": [
    {
     "name": "stdout",
     "output_type": "stream",
     "text": [
      "Project root: /Users/farshid\n",
      "Checking if src exists at: /Users/farshid/src\n",
      "Exists: False\n",
      "Error: The path /Users/farshid/src does not exist. Check your project structure.\n",
      "Current sys.path: ['/Library/Frameworks/Python.framework/Versions/3.12/lib/python312.zip', '/Library/Frameworks/Python.framework/Versions/3.12/lib/python3.12', '/Library/Frameworks/Python.framework/Versions/3.12/lib/python3.12/lib-dynload', '', '/Users/farshid/taxi_demand_predictor/.venv/lib/python3.12/site-packages', '/Users/farshid/taxi_demand_predictor/src']\n",
      "Downloading raw data from 2024 to 2025\n",
      "File 2024-01 was already in local storage\n",
      "File 2024-02 was already in local storage\n",
      "File 2024-03 was already in local storage\n",
      "File 2024-04 was already in local storage\n",
      "File 2024-05 was already in local storage\n",
      "File 2024-06 was already in local storage\n",
      "File 2024-07 was already in local storage\n",
      "File 2024-08 was already in local storage\n",
      "File 2024-09 was already in local storage\n",
      "File 2024-10 was already in local storage\n",
      "File 2024-11 was already in local storage\n",
      "Downloading file 2024-12\n",
      "2024-12 file is not available\n",
      "Downloading file 2025-01\n",
      "2025-01 file is not available\n",
      "Downloading file 2025-02\n",
      "2025-02 file is not available\n",
      "Downloading file 2025-03\n",
      "2025-03 file is not available\n",
      "Downloading file 2025-04\n",
      "2025-04 file is not available\n",
      "Downloading file 2025-05\n",
      "2025-05 file is not available\n",
      "Downloading file 2025-06\n",
      "2025-06 file is not available\n",
      "Downloading file 2025-07\n",
      "2025-07 file is not available\n",
      "Downloading file 2025-08\n",
      "2025-08 file is not available\n",
      "Downloading file 2025-09\n",
      "2025-09 file is not available\n",
      "Downloading file 2025-10\n",
      "2025-10 file is not available\n",
      "Downloading file 2025-11\n",
      "2025-11 file is not available\n",
      "Downloading file 2025-12\n",
      "2025-12 file is not available\n",
      "Data downloaded: 37500963 rows\n"
     ]
    }
   ],
   "source": [
    "from datetime import datetime\n",
    "import pandas as pd\n",
    "import sys\n",
    "from pathlib import Path\n",
    "import os\n",
    "\n",
    "# Explicitly set the working directory to the project root (taxi_demand_predictor)\n",
    "project_root = Path.cwd().parent  # Adjust if needed\n",
    "os.chdir(project_root)\n",
    "\n",
    "# Check if the src directory is added to the sys.path\n",
    "src_path = project_root / 'src'\n",
    "\n",
    "# Debugging step to verify the correct path\n",
    "print(f\"Project root: {project_root}\")\n",
    "print(f\"Checking if src exists at: {src_path}\")\n",
    "print(f\"Exists: {src_path.exists()}\")\n",
    "\n",
    "# Add the `src` folder to Python path if it exists\n",
    "if src_path.exists():\n",
    "    if str(src_path) not in sys.path:\n",
    "        sys.path.append(str(src_path))\n",
    "    print(f\"Added {src_path} to sys.path\")\n",
    "else:\n",
    "    print(f\"Error: The path {src_path} does not exist. Check your project structure.\")\n",
    "\n",
    "# Verify if sys.path includes the 'src' directory\n",
    "print(\"Current sys.path:\", sys.path)\n",
    "\n",
    "# Try importing the module again\n",
    "try:\n",
    "    from src.data import load_raw_data\n",
    "except ModuleNotFoundError as e:\n",
    "    print(\"Error importing module:\", e)\n",
    "\n",
    "# Download raw data\n",
    "from_year = 2024\n",
    "to_year = datetime.now().year\n",
    "print(f'Downloading raw data from {from_year} to {to_year}')\n",
    "\n",
    "rides = pd.DataFrame()\n",
    "for year in range(from_year, to_year + 1):\n",
    "    # Download data for the whole year\n",
    "    rides_one_year = load_raw_data(year)\n",
    "\n",
    "    # Append rows\n",
    "    rides = pd.concat([rides, rides_one_year])\n",
    "\n",
    "print(f\"Data downloaded: {len(rides)} rows\")\n",
    "\n"
   ]
  },
  {
   "cell_type": "code",
   "execution_count": 16,
   "metadata": {},
   "outputs": [
    {
     "name": "stdout",
     "output_type": "stream",
     "text": [
      "len(rides)=37,500,963\n"
     ]
    }
   ],
   "source": [
    "print(f'{len(rides)=:,}')\n"
   ]
  },
  {
   "cell_type": "code",
   "execution_count": 17,
   "metadata": {},
   "outputs": [
    {
     "name": "stderr",
     "output_type": "stream",
     "text": [
      "100%|██████████| 265/265 [00:01<00:00, 166.33it/s]\n"
     ]
    }
   ],
   "source": [
    "from src.data import transform_raw_data_into_ts_data\n",
    "\n",
    "ts_data = transform_raw_data_into_ts_data(rides)"
   ]
  },
  {
   "cell_type": "code",
   "execution_count": 18,
   "metadata": {},
   "outputs": [],
   "source": [
    "# string to datetime\n",
    "ts_data['pickup_hour'] = pd.to_datetime(ts_data['pickup_hour'], utc=True)\n",
    "\n",
    "# add column with Unix epoch milliseconds\n",
    "ts_data['pickup_ts'] = ts_data['pickup_hour'].astype(int) // 10**6"
   ]
  },
  {
   "cell_type": "code",
   "execution_count": 19,
   "metadata": {},
   "outputs": [],
   "source": [
    "import hopsworks\n"
   ]
  },
  {
   "cell_type": "code",
   "execution_count": 20,
   "metadata": {},
   "outputs": [],
   "source": [
    "HOPSWORKS_PROJECT_NAME = 'Taxi_demand_predictor'\n"
   ]
  },
  {
   "cell_type": "code",
   "execution_count": 21,
   "metadata": {},
   "outputs": [
    {
     "name": "stdout",
     "output_type": "stream",
     "text": [
      "2025-02-03 21:22:52,479 INFO: Closing external client and cleaning up certificates.\n",
      "Connection closed.\n",
      "2025-02-03 21:22:52,483 INFO: Initializing external client\n",
      "2025-02-03 21:22:52,483 INFO: Base URL: https://c.app.hopsworks.ai:443\n",
      "2025-02-03 21:22:52,960 INFO: Python Engine initialized.\n",
      "\n",
      "Logged in to project, explore it here https://c.app.hopsworks.ai:443/p/1211556\n"
     ]
    }
   ],
   "source": [
    "# connect to the project\n",
    "project = hopsworks.login(\n",
    "    project=HOPSWORKS_PROJECT_NAME,\n",
    "    api_key_value=HOPSWORKS_API_KEY\n",
    ")"
   ]
  },
  {
   "cell_type": "code",
   "execution_count": 22,
   "metadata": {},
   "outputs": [],
   "source": [
    "feature_store = project.get_feature_store()\n"
   ]
  },
  {
   "cell_type": "code",
   "execution_count": 23,
   "metadata": {},
   "outputs": [],
   "source": [
    "FEATURE_GROUP_NAME = 'time_series_hourly_feature_group'\n",
    "FEATURE_GROUP_VERSION = 3"
   ]
  },
  {
   "cell_type": "code",
   "execution_count": 24,
   "metadata": {},
   "outputs": [],
   "source": [
    "feature_group = feature_store.get_or_create_feature_group(\n",
    "    name=FEATURE_GROUP_NAME,\n",
    "    version=FEATURE_GROUP_VERSION,\n",
    "    description=\"Time-series data at hourly frequency\",\n",
    "    primary_key = ['pickup_location_id', 'pickup_ts'],\n",
    "    event_time='pickup_ts',\n",
    ")"
   ]
  },
  {
   "cell_type": "code",
   "execution_count": 25,
   "metadata": {},
   "outputs": [
    {
     "name": "stdout",
     "output_type": "stream",
     "text": [
      "                pickup_hour  rides  pickup_location_id      pickup_ts\n",
      "0 2024-01-01 00:00:00+00:00      0                   1  1704067200000\n",
      "1 2024-01-01 01:00:00+00:00      0                   1  1704070800000\n",
      "2 2024-01-01 02:00:00+00:00      0                   1  1704074400000\n",
      "3 2024-01-01 03:00:00+00:00      0                   1  1704078000000\n",
      "4 2024-01-01 04:00:00+00:00      0                   1  1704081600000\n",
      "pickup_hour           datetime64[ns, UTC]\n",
      "rides                               int64\n",
      "pickup_location_id                  int64\n",
      "pickup_ts                           int64\n",
      "dtype: object\n"
     ]
    }
   ],
   "source": [
    "# Check the first few rows and data types\n",
    "print(ts_data.head())\n",
    "print(ts_data.dtypes)\n"
   ]
  },
  {
   "cell_type": "code",
   "execution_count": 26,
   "metadata": {},
   "outputs": [
    {
     "name": "stderr",
     "output_type": "stream",
     "text": [
      "Uploading Dataframe: 100.00% |██████████| Rows 2130600/2130600 | Elapsed Time: 01:39 | Remaining Time: 00:00\n"
     ]
    },
    {
     "name": "stdout",
     "output_type": "stream",
     "text": [
      "Launching job: time_series_hourly_feature_group_3_offline_fg_materialization\n",
      "Job started successfully, you can follow the progress at \n",
      "https://c.app.hopsworks.ai:443/p/1211556/jobs/named/time_series_hourly_feature_group_3_offline_fg_materialization/executions\n"
     ]
    },
    {
     "data": {
      "text/plain": [
       "(Job('time_series_hourly_feature_group_3_offline_fg_materialization', 'SPARK'),\n",
       " None)"
      ]
     },
     "execution_count": 26,
     "metadata": {},
     "output_type": "execute_result"
    }
   ],
   "source": [
    "feature_group.insert(ts_data, write_options={\"wait_for_job\": False})\n"
   ]
  },
  {
   "cell_type": "code",
   "execution_count": null,
   "metadata": {},
   "outputs": [],
   "source": []
  }
 ],
 "metadata": {
  "kernelspec": {
   "display_name": "Python (taxi_venv)",
   "language": "python",
   "name": "taxi_venv"
  },
  "language_info": {
   "codemirror_mode": {
    "name": "ipython",
    "version": 3
   },
   "file_extension": ".py",
   "mimetype": "text/x-python",
   "name": "python",
   "nbconvert_exporter": "python",
   "pygments_lexer": "ipython3",
   "version": "3.12.8"
  }
 },
 "nbformat": 4,
 "nbformat_minor": 2
}
